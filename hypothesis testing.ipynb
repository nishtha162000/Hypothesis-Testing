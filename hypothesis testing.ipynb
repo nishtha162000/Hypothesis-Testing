{
 "cells": [
  {
   "cell_type": "markdown",
   "id": "8a796e95",
   "metadata": {},
   "source": [
    "## One Sample T-test\n",
    "\n",
    "###### H0 --- There is no difference between sample mean and population mean.\n",
    "###### h1 --- There is difference"
   ]
  },
  {
   "cell_type": "markdown",
   "id": "2dd214a7",
   "metadata": {},
   "source": [
    "eg 1.\n"
   ]
  },
  {
   "cell_type": "code",
   "execution_count": 1,
   "id": "70964ca7",
   "metadata": {},
   "outputs": [],
   "source": [
    "ages=[21,22,23,24,25,26,27,28,29,30,31,32,33,34,35,36,37,38,39,40,41,42,43,45,46,47,48,49,50]"
   ]
  },
  {
   "cell_type": "code",
   "execution_count": 2,
   "id": "d472f734",
   "metadata": {},
   "outputs": [
    {
     "data": {
      "text/plain": [
       "29"
      ]
     },
     "execution_count": 2,
     "metadata": {},
     "output_type": "execute_result"
    }
   ],
   "source": [
    "len(ages)"
   ]
  },
  {
   "cell_type": "code",
   "execution_count": 3,
   "id": "f05f8afd",
   "metadata": {},
   "outputs": [
    {
     "name": "stdout",
     "output_type": "stream",
     "text": [
      "35.206896551724135\n"
     ]
    }
   ],
   "source": [
    "import numpy as np\n",
    "ages_mean=np.mean(ages)\n",
    "print(ages_mean)"
   ]
  },
  {
   "cell_type": "markdown",
   "id": "fc54c7d7",
   "metadata": {},
   "source": [
    "## Lets Take Sample"
   ]
  },
  {
   "cell_type": "code",
   "execution_count": 4,
   "id": "c9a7d742",
   "metadata": {},
   "outputs": [],
   "source": [
    "sample_size=14\n",
    "age_sample=np.random.choice(ages,sample_size)"
   ]
  },
  {
   "cell_type": "code",
   "execution_count": 5,
   "id": "bd7bd23a",
   "metadata": {},
   "outputs": [
    {
     "data": {
      "text/plain": [
       "array([41, 26, 37, 23, 49, 33, 41, 35, 21, 28, 36, 33, 49, 22])"
      ]
     },
     "execution_count": 5,
     "metadata": {},
     "output_type": "execute_result"
    }
   ],
   "source": [
    "age_sample"
   ]
  },
  {
   "cell_type": "code",
   "execution_count": 6,
   "id": "7246bf10",
   "metadata": {},
   "outputs": [
    {
     "data": {
      "text/plain": [
       "33.857142857142854"
      ]
     },
     "execution_count": 6,
     "metadata": {},
     "output_type": "execute_result"
    }
   ],
   "source": [
    "age_sample.mean()"
   ]
  },
  {
   "cell_type": "code",
   "execution_count": 9,
   "id": "c740f51c",
   "metadata": {},
   "outputs": [],
   "source": [
    "from scipy.stats import ttest_1samp\n",
    "ttest,p_value=ttest_1samp(age_sample,35)"
   ]
  },
  {
   "cell_type": "code",
   "execution_count": 10,
   "id": "e25e47d7",
   "metadata": {},
   "outputs": [
    {
     "name": "stdout",
     "output_type": "stream",
     "text": [
      "0.6493777231477058\n"
     ]
    }
   ],
   "source": [
    "print(p_value)"
   ]
  },
  {
   "cell_type": "code",
   "execution_count": 11,
   "id": "cec74d0f",
   "metadata": {},
   "outputs": [
    {
     "name": "stdout",
     "output_type": "stream",
     "text": [
      "Accept null hypothesis\n"
     ]
    }
   ],
   "source": [
    "if p_value<0.05:\n",
    "    print(\"Reject null hypothesis\")\n",
    "else:\n",
    "    print(\"Accept null hypothesis\")\n",
    "    "
   ]
  },
  {
   "cell_type": "markdown",
   "id": "dc61c836",
   "metadata": {},
   "source": [
    "eg 2."
   ]
  },
  {
   "cell_type": "markdown",
   "id": "309671fb",
   "metadata": {},
   "source": [
    "# Two Sample T-Test"
   ]
  },
  {
   "cell_type": "code",
   "execution_count": 12,
   "id": "4b680a56",
   "metadata": {},
   "outputs": [],
   "source": [
    "import scipy.stats as stats\n"
   ]
  },
  {
   "cell_type": "code",
   "execution_count": 13,
   "id": "c7267c51",
   "metadata": {},
   "outputs": [],
   "source": [
    "classA_ages=stats.poisson.rvs(loc=18,mu=36,size=60)\n",
    "classB_ages=stats.poisson.rvs(loc=18,mu=30,size=65)"
   ]
  },
  {
   "cell_type": "code",
   "execution_count": 15,
   "id": "9e9b3d0b",
   "metadata": {},
   "outputs": [
    {
     "data": {
      "text/plain": [
       "54.5"
      ]
     },
     "execution_count": 15,
     "metadata": {},
     "output_type": "execute_result"
    }
   ],
   "source": [
    "classA_ages.mean()\n"
   ]
  },
  {
   "cell_type": "code",
   "execution_count": 16,
   "id": "8a89adb2",
   "metadata": {},
   "outputs": [
    {
     "data": {
      "text/plain": [
       "47.815384615384616"
      ]
     },
     "execution_count": 16,
     "metadata": {},
     "output_type": "execute_result"
    }
   ],
   "source": [
    "classB_ages.mean()"
   ]
  },
  {
   "cell_type": "code",
   "execution_count": 18,
   "id": "647b09f2",
   "metadata": {},
   "outputs": [],
   "source": [
    "_,P_value=stats.ttest_ind(a=classA_ages,b=classB_ages,equal_var=False)"
   ]
  },
  {
   "cell_type": "code",
   "execution_count": 19,
   "id": "eb7cf517",
   "metadata": {},
   "outputs": [
    {
     "name": "stdout",
     "output_type": "stream",
     "text": [
      "6.447176038252191e-09\n"
     ]
    }
   ],
   "source": [
    "print(P_value)"
   ]
  },
  {
   "cell_type": "code",
   "execution_count": 20,
   "id": "ff510bcf",
   "metadata": {},
   "outputs": [
    {
     "name": "stdout",
     "output_type": "stream",
     "text": [
      "Accept Null hypothesis\n"
     ]
    }
   ],
   "source": [
    "if p_value<0.05:\n",
    "    print(\"Reject Null hypothesis\")\n",
    "else:\n",
    "    print(\"Accept Null hypothesis\")"
   ]
  },
  {
   "cell_type": "markdown",
   "id": "8fb32eaf",
   "metadata": {},
   "source": [
    "# Paired T-Test with python"
   ]
  },
  {
   "cell_type": "code",
   "execution_count": 24,
   "id": "33fb6272",
   "metadata": {},
   "outputs": [],
   "source": [
    "import pandas as pd"
   ]
  },
  {
   "cell_type": "code",
   "execution_count": 22,
   "id": "412c31aa",
   "metadata": {},
   "outputs": [],
   "source": [
    "weight1=[20,21,22,23,24,25,26,27,28,29,30]\n",
    "weight2=weight1+stats.norm.rvs(scale=5,loc=1.25,size=11)"
   ]
  },
  {
   "cell_type": "code",
   "execution_count": 23,
   "id": "a7db17e3",
   "metadata": {},
   "outputs": [
    {
     "name": "stdout",
     "output_type": "stream",
     "text": [
      "[20, 21, 22, 23, 24, 25, 26, 27, 28, 29, 30]\n",
      "[24.02118524 22.11291212 22.57547192 19.94957    34.34290298 21.36320518\n",
      " 33.44663758 37.76402449 34.00026753 25.16106202 24.58401061]\n"
     ]
    }
   ],
   "source": [
    "print(weight1)\n",
    "print(weight2)"
   ]
  },
  {
   "cell_type": "code",
   "execution_count": 25,
   "id": "796c9680",
   "metadata": {},
   "outputs": [],
   "source": [
    "weight_df=pd.DataFrame({\"weight10\":np.array(weight1),\"weight20\":np.array(weight2),\n",
    "                        \"weight_change\":np.array(weight2)-np.array(weight1)})"
   ]
  },
  {
   "cell_type": "code",
   "execution_count": 26,
   "id": "b245eb54",
   "metadata": {},
   "outputs": [
    {
     "data": {
      "text/html": [
       "<div>\n",
       "<style scoped>\n",
       "    .dataframe tbody tr th:only-of-type {\n",
       "        vertical-align: middle;\n",
       "    }\n",
       "\n",
       "    .dataframe tbody tr th {\n",
       "        vertical-align: top;\n",
       "    }\n",
       "\n",
       "    .dataframe thead th {\n",
       "        text-align: right;\n",
       "    }\n",
       "</style>\n",
       "<table border=\"1\" class=\"dataframe\">\n",
       "  <thead>\n",
       "    <tr style=\"text-align: right;\">\n",
       "      <th></th>\n",
       "      <th>weight10</th>\n",
       "      <th>weight20</th>\n",
       "      <th>weight_change</th>\n",
       "    </tr>\n",
       "  </thead>\n",
       "  <tbody>\n",
       "    <tr>\n",
       "      <th>0</th>\n",
       "      <td>20</td>\n",
       "      <td>24.021185</td>\n",
       "      <td>4.021185</td>\n",
       "    </tr>\n",
       "    <tr>\n",
       "      <th>1</th>\n",
       "      <td>21</td>\n",
       "      <td>22.112912</td>\n",
       "      <td>1.112912</td>\n",
       "    </tr>\n",
       "    <tr>\n",
       "      <th>2</th>\n",
       "      <td>22</td>\n",
       "      <td>22.575472</td>\n",
       "      <td>0.575472</td>\n",
       "    </tr>\n",
       "    <tr>\n",
       "      <th>3</th>\n",
       "      <td>23</td>\n",
       "      <td>19.949570</td>\n",
       "      <td>-3.050430</td>\n",
       "    </tr>\n",
       "    <tr>\n",
       "      <th>4</th>\n",
       "      <td>24</td>\n",
       "      <td>34.342903</td>\n",
       "      <td>10.342903</td>\n",
       "    </tr>\n",
       "    <tr>\n",
       "      <th>5</th>\n",
       "      <td>25</td>\n",
       "      <td>21.363205</td>\n",
       "      <td>-3.636795</td>\n",
       "    </tr>\n",
       "    <tr>\n",
       "      <th>6</th>\n",
       "      <td>26</td>\n",
       "      <td>33.446638</td>\n",
       "      <td>7.446638</td>\n",
       "    </tr>\n",
       "    <tr>\n",
       "      <th>7</th>\n",
       "      <td>27</td>\n",
       "      <td>37.764024</td>\n",
       "      <td>10.764024</td>\n",
       "    </tr>\n",
       "    <tr>\n",
       "      <th>8</th>\n",
       "      <td>28</td>\n",
       "      <td>34.000268</td>\n",
       "      <td>6.000268</td>\n",
       "    </tr>\n",
       "    <tr>\n",
       "      <th>9</th>\n",
       "      <td>29</td>\n",
       "      <td>25.161062</td>\n",
       "      <td>-3.838938</td>\n",
       "    </tr>\n",
       "    <tr>\n",
       "      <th>10</th>\n",
       "      <td>30</td>\n",
       "      <td>24.584011</td>\n",
       "      <td>-5.415989</td>\n",
       "    </tr>\n",
       "  </tbody>\n",
       "</table>\n",
       "</div>"
      ],
      "text/plain": [
       "    weight10   weight20  weight_change\n",
       "0         20  24.021185       4.021185\n",
       "1         21  22.112912       1.112912\n",
       "2         22  22.575472       0.575472\n",
       "3         23  19.949570      -3.050430\n",
       "4         24  34.342903      10.342903\n",
       "5         25  21.363205      -3.636795\n",
       "6         26  33.446638       7.446638\n",
       "7         27  37.764024      10.764024\n",
       "8         28  34.000268       6.000268\n",
       "9         29  25.161062      -3.838938\n",
       "10        30  24.584011      -5.415989"
      ]
     },
     "execution_count": 26,
     "metadata": {},
     "output_type": "execute_result"
    }
   ],
   "source": [
    "weight_df"
   ]
  },
  {
   "cell_type": "code",
   "execution_count": 27,
   "id": "fc40566c",
   "metadata": {},
   "outputs": [],
   "source": [
    "_,P_value=stats.ttest_rel(a=weight1,b=weight2)"
   ]
  },
  {
   "cell_type": "code",
   "execution_count": 28,
   "id": "6033e81d",
   "metadata": {},
   "outputs": [
    {
     "name": "stdout",
     "output_type": "stream",
     "text": [
      "0.2402074570921122\n"
     ]
    }
   ],
   "source": [
    "print(P_value)"
   ]
  },
  {
   "cell_type": "code",
   "execution_count": 29,
   "id": "9b4e0b8b",
   "metadata": {},
   "outputs": [
    {
     "name": "stdout",
     "output_type": "stream",
     "text": [
      "Accept Null hypothesis\n"
     ]
    }
   ],
   "source": [
    "if p_value<0.05:\n",
    "    print(\"Reject Null hypothesis\")\n",
    "else:\n",
    "    print(\"Accept Null hypothesis\")"
   ]
  },
  {
   "cell_type": "markdown",
   "id": "fc2e4534",
   "metadata": {},
   "source": [
    "# CHI-Square Test"
   ]
  },
  {
   "cell_type": "code",
   "execution_count": 31,
   "id": "2444f9bb",
   "metadata": {},
   "outputs": [],
   "source": [
    "import seaborn as sns\n",
    "import pandas as pd\n",
    "import numpy as np\n",
    "import scipy.stats as stats"
   ]
  },
  {
   "cell_type": "code",
   "execution_count": 32,
   "id": "6f1afbe5",
   "metadata": {},
   "outputs": [],
   "source": [
    "dataset=sns.load_dataset(\"tips\")"
   ]
  },
  {
   "cell_type": "code",
   "execution_count": 34,
   "id": "06b30ba8",
   "metadata": {},
   "outputs": [
    {
     "data": {
      "text/html": [
       "<div>\n",
       "<style scoped>\n",
       "    .dataframe tbody tr th:only-of-type {\n",
       "        vertical-align: middle;\n",
       "    }\n",
       "\n",
       "    .dataframe tbody tr th {\n",
       "        vertical-align: top;\n",
       "    }\n",
       "\n",
       "    .dataframe thead th {\n",
       "        text-align: right;\n",
       "    }\n",
       "</style>\n",
       "<table border=\"1\" class=\"dataframe\">\n",
       "  <thead>\n",
       "    <tr style=\"text-align: right;\">\n",
       "      <th></th>\n",
       "      <th>total_bill</th>\n",
       "      <th>tip</th>\n",
       "      <th>sex</th>\n",
       "      <th>smoker</th>\n",
       "      <th>day</th>\n",
       "      <th>time</th>\n",
       "      <th>size</th>\n",
       "    </tr>\n",
       "  </thead>\n",
       "  <tbody>\n",
       "    <tr>\n",
       "      <th>0</th>\n",
       "      <td>16.99</td>\n",
       "      <td>1.01</td>\n",
       "      <td>Female</td>\n",
       "      <td>No</td>\n",
       "      <td>Sun</td>\n",
       "      <td>Dinner</td>\n",
       "      <td>2</td>\n",
       "    </tr>\n",
       "    <tr>\n",
       "      <th>1</th>\n",
       "      <td>10.34</td>\n",
       "      <td>1.66</td>\n",
       "      <td>Male</td>\n",
       "      <td>No</td>\n",
       "      <td>Sun</td>\n",
       "      <td>Dinner</td>\n",
       "      <td>3</td>\n",
       "    </tr>\n",
       "    <tr>\n",
       "      <th>2</th>\n",
       "      <td>21.01</td>\n",
       "      <td>3.50</td>\n",
       "      <td>Male</td>\n",
       "      <td>No</td>\n",
       "      <td>Sun</td>\n",
       "      <td>Dinner</td>\n",
       "      <td>3</td>\n",
       "    </tr>\n",
       "    <tr>\n",
       "      <th>3</th>\n",
       "      <td>23.68</td>\n",
       "      <td>3.31</td>\n",
       "      <td>Male</td>\n",
       "      <td>No</td>\n",
       "      <td>Sun</td>\n",
       "      <td>Dinner</td>\n",
       "      <td>2</td>\n",
       "    </tr>\n",
       "    <tr>\n",
       "      <th>4</th>\n",
       "      <td>24.59</td>\n",
       "      <td>3.61</td>\n",
       "      <td>Female</td>\n",
       "      <td>No</td>\n",
       "      <td>Sun</td>\n",
       "      <td>Dinner</td>\n",
       "      <td>4</td>\n",
       "    </tr>\n",
       "  </tbody>\n",
       "</table>\n",
       "</div>"
      ],
      "text/plain": [
       "   total_bill   tip     sex smoker  day    time  size\n",
       "0       16.99  1.01  Female     No  Sun  Dinner     2\n",
       "1       10.34  1.66    Male     No  Sun  Dinner     3\n",
       "2       21.01  3.50    Male     No  Sun  Dinner     3\n",
       "3       23.68  3.31    Male     No  Sun  Dinner     2\n",
       "4       24.59  3.61  Female     No  Sun  Dinner     4"
      ]
     },
     "execution_count": 34,
     "metadata": {},
     "output_type": "execute_result"
    }
   ],
   "source": [
    "dataset.head()"
   ]
  },
  {
   "cell_type": "code",
   "execution_count": 35,
   "id": "8da38082",
   "metadata": {},
   "outputs": [],
   "source": [
    "dataset_table=pd.crosstab(dataset['sex'],dataset['smoker'])"
   ]
  },
  {
   "cell_type": "code",
   "execution_count": 36,
   "id": "a05b1a93",
   "metadata": {},
   "outputs": [
    {
     "data": {
      "text/html": [
       "<div>\n",
       "<style scoped>\n",
       "    .dataframe tbody tr th:only-of-type {\n",
       "        vertical-align: middle;\n",
       "    }\n",
       "\n",
       "    .dataframe tbody tr th {\n",
       "        vertical-align: top;\n",
       "    }\n",
       "\n",
       "    .dataframe thead th {\n",
       "        text-align: right;\n",
       "    }\n",
       "</style>\n",
       "<table border=\"1\" class=\"dataframe\">\n",
       "  <thead>\n",
       "    <tr style=\"text-align: right;\">\n",
       "      <th>smoker</th>\n",
       "      <th>Yes</th>\n",
       "      <th>No</th>\n",
       "    </tr>\n",
       "    <tr>\n",
       "      <th>sex</th>\n",
       "      <th></th>\n",
       "      <th></th>\n",
       "    </tr>\n",
       "  </thead>\n",
       "  <tbody>\n",
       "    <tr>\n",
       "      <th>Male</th>\n",
       "      <td>60</td>\n",
       "      <td>97</td>\n",
       "    </tr>\n",
       "    <tr>\n",
       "      <th>Female</th>\n",
       "      <td>33</td>\n",
       "      <td>54</td>\n",
       "    </tr>\n",
       "  </tbody>\n",
       "</table>\n",
       "</div>"
      ],
      "text/plain": [
       "smoker  Yes  No\n",
       "sex            \n",
       "Male     60  97\n",
       "Female   33  54"
      ]
     },
     "execution_count": 36,
     "metadata": {},
     "output_type": "execute_result"
    }
   ],
   "source": [
    "dataset_table"
   ]
  },
  {
   "cell_type": "code",
   "execution_count": 61,
   "id": "0e14cea0",
   "metadata": {},
   "outputs": [
    {
     "name": "stdout",
     "output_type": "stream",
     "text": [
      "observed values\n",
      " [[60 97]\n",
      " [33 54]]\n"
     ]
    }
   ],
   "source": [
    "observed_values=dataset_table.values\n",
    "print(\"observed values\\n\",dataset_table.values)"
   ]
  },
  {
   "cell_type": "code",
   "execution_count": 39,
   "id": "9d29f3eb",
   "metadata": {},
   "outputs": [],
   "source": [
    "val=stats.chi2_contingency(dataset_table)"
   ]
  },
  {
   "cell_type": "code",
   "execution_count": 40,
   "id": "8ca39911",
   "metadata": {},
   "outputs": [
    {
     "data": {
      "text/plain": [
       "(0.0,\n",
       " 1.0,\n",
       " 1,\n",
       " array([[59.84016393, 97.15983607],\n",
       "        [33.15983607, 53.84016393]]))"
      ]
     },
     "execution_count": 40,
     "metadata": {},
     "output_type": "execute_result"
    }
   ],
   "source": [
    "val"
   ]
  },
  {
   "cell_type": "code",
   "execution_count": 41,
   "id": "a14f0e3c",
   "metadata": {},
   "outputs": [],
   "source": [
    "expected_value=val[3]"
   ]
  },
  {
   "cell_type": "code",
   "execution_count": 42,
   "id": "4795aa90",
   "metadata": {},
   "outputs": [
    {
     "data": {
      "text/plain": [
       "array([[59.84016393, 97.15983607],\n",
       "       [33.15983607, 53.84016393]])"
      ]
     },
     "execution_count": 42,
     "metadata": {},
     "output_type": "execute_result"
    }
   ],
   "source": [
    "expected_value"
   ]
  },
  {
   "cell_type": "code",
   "execution_count": 54,
   "id": "8b62df3f",
   "metadata": {},
   "outputs": [
    {
     "data": {
      "text/plain": [
       "2"
      ]
     },
     "execution_count": 54,
     "metadata": {},
     "output_type": "execute_result"
    }
   ],
   "source": [
    "no_rows=len(dataset_table.iloc[0:2,0])\n",
    "no_rows"
   ]
  },
  {
   "cell_type": "code",
   "execution_count": 55,
   "id": "159a9530",
   "metadata": {},
   "outputs": [
    {
     "data": {
      "text/plain": [
       "2"
      ]
     },
     "execution_count": 55,
     "metadata": {},
     "output_type": "execute_result"
    }
   ],
   "source": [
    "no_col=len(dataset_table.iloc[0,0:2])\n",
    "no_col"
   ]
  },
  {
   "cell_type": "code",
   "execution_count": 56,
   "id": "66544e4b",
   "metadata": {},
   "outputs": [],
   "source": [
    "degree_of_freedom=(no_rows-1)*(no_col-1)"
   ]
  },
  {
   "cell_type": "code",
   "execution_count": 57,
   "id": "66570c7d",
   "metadata": {},
   "outputs": [
    {
     "data": {
      "text/plain": [
       "1"
      ]
     },
     "execution_count": 57,
     "metadata": {},
     "output_type": "execute_result"
    }
   ],
   "source": [
    "degree_of_freedom"
   ]
  },
  {
   "cell_type": "code",
   "execution_count": 62,
   "id": "a6a3e1d0",
   "metadata": {},
   "outputs": [],
   "source": [
    "chi_square=sum([(o-e)**2/e for o,e in zip(observed_values,expected_value)])"
   ]
  },
  {
   "cell_type": "code",
   "execution_count": 63,
   "id": "44205595",
   "metadata": {},
   "outputs": [
    {
     "name": "stdout",
     "output_type": "stream",
     "text": [
      "[0.00119737 0.00073745]\n"
     ]
    }
   ],
   "source": [
    "print(chi_square)"
   ]
  },
  {
   "cell_type": "code",
   "execution_count": 64,
   "id": "66df063f",
   "metadata": {},
   "outputs": [],
   "source": [
    "chi_square_statistic=chi_square[0]+chi_square[1]"
   ]
  },
  {
   "cell_type": "code",
   "execution_count": 65,
   "id": "458c288e",
   "metadata": {},
   "outputs": [
    {
     "name": "stdout",
     "output_type": "stream",
     "text": [
      "0.001934818536627623\n"
     ]
    }
   ],
   "source": [
    "print(chi_square_statistic)"
   ]
  },
  {
   "cell_type": "code",
   "execution_count": 67,
   "id": "cf5f8e35",
   "metadata": {},
   "outputs": [
    {
     "name": "stdout",
     "output_type": "stream",
     "text": [
      "critical_value 3.841458820694124\n"
     ]
    }
   ],
   "source": [
    "alpha=0.05\n",
    "critical_value=stats.chi2.ppf(q=1-alpha,df=degree_of_freedom)\n",
    "print(\"critical_value\",critical_value)"
   ]
  },
  {
   "cell_type": "code",
   "execution_count": 69,
   "id": "6e4c6066",
   "metadata": {},
   "outputs": [
    {
     "name": "stdout",
     "output_type": "stream",
     "text": [
      "accept null hypothesis, there is no relationship between 2 categorical variables\n"
     ]
    }
   ],
   "source": [
    "if chi_square_statistic>=critical_value:\n",
    "    print(\"reject null hypothesis, there is a relationship between 2 categorical variables\")\n",
    "else:\n",
    "    print(\"accept null hypothesis, there is no relationship between 2 categorical variables\")"
   ]
  },
  {
   "cell_type": "markdown",
   "id": "0e013cc5",
   "metadata": {},
   "source": [
    "## p value"
   ]
  },
  {
   "cell_type": "code",
   "execution_count": 68,
   "id": "40c65542",
   "metadata": {},
   "outputs": [
    {
     "name": "stdout",
     "output_type": "stream",
     "text": [
      "p-value 0.964915107315732\n"
     ]
    }
   ],
   "source": [
    "p_value=1-stats.chi2.cdf(x=chi_square_statistic,df=degree_of_freedom)\n",
    "print(\"p-value\",p_value)"
   ]
  },
  {
   "cell_type": "code",
   "execution_count": 71,
   "id": "c70b3830",
   "metadata": {},
   "outputs": [
    {
     "name": "stdout",
     "output_type": "stream",
     "text": [
      "accept null hypothesis, there is no relationship between 2 categorical variables\n"
     ]
    }
   ],
   "source": [
    "if p_value<=alpha:\n",
    "    print(\"reject null hypothesis, there is a relationship between 2 categorical variables\")\n",
    "else:\n",
    "    print(\"accept null hypothesis, there is no relationship between 2 categorical variables\")"
   ]
  },
  {
   "cell_type": "code",
   "execution_count": null,
   "id": "bb86d25d",
   "metadata": {},
   "outputs": [],
   "source": []
  }
 ],
 "metadata": {
  "kernelspec": {
   "display_name": "Python 3 (ipykernel)",
   "language": "python",
   "name": "python3"
  },
  "language_info": {
   "codemirror_mode": {
    "name": "ipython",
    "version": 3
   },
   "file_extension": ".py",
   "mimetype": "text/x-python",
   "name": "python",
   "nbconvert_exporter": "python",
   "pygments_lexer": "ipython3",
   "version": "3.9.7"
  }
 },
 "nbformat": 4,
 "nbformat_minor": 5
}
